{
  "nbformat": 4,
  "nbformat_minor": 0,
  "metadata": {
    "colab": {
      "name": "Python_Problem.ipynb",
      "version": "0.3.2",
      "provenance": [],
      "collapsed_sections": []
    },
    "kernelspec": {
      "display_name": "Python [default]",
      "language": "python",
      "name": "python3"
    }
  },
  "cells": [
    {
      "metadata": {
        "id": "S1u-EyRZmwma",
        "colab_type": "text"
      },
      "cell_type": "markdown",
      "source": [
        "# Importing the Libraries"
      ]
    },
    {
      "metadata": {
        "colab_type": "code",
        "id": "bhtvxTs2oXoL",
        "colab": {}
      },
      "cell_type": "code",
      "source": [
        "import tweepy\n",
        "import json\n",
        "import sys\n",
        "import pandas as pd"
      ],
      "execution_count": 0,
      "outputs": []
    },
    {
      "metadata": {
        "id": "A1TyfqTSmwmh",
        "colab_type": "text"
      },
      "cell_type": "markdown",
      "source": [
        "# Twitter API credentials\n"
      ]
    },
    {
      "metadata": {
        "id": "nqqZZvlpmwmi",
        "colab_type": "code",
        "colab": {}
      },
      "cell_type": "code",
      "source": [
        "consumer_key = \"rtcVV4HLOc3ZvovsuIQxhSkiU\" \n",
        "consumer_secret = \"Kj8sOJlSjMiqkwICpffNu7EBuPcpntnRhDvq1uol8asYiYtNHC\"\n",
        "access_key = \"1114438546176086016-koTxShtGuoKyKfhK2RXsDYN2UU7Vg4\"\n",
        "access_secret = \"PjxCQo2XtQVTYtcOhN6cZG8TmmoPCpqga9fN1V3jJ7prb\"\n",
        "\n",
        "auth = tweepy.OAuthHandler(consumer_key, consumer_secret)\n",
        "auth.set_access_token(access_key, access_secret)\n",
        "api = tweepy.API(auth)"
      ],
      "execution_count": 0,
      "outputs": []
    },
    {
      "metadata": {
        "id": "ZOvqyZvjmwmm",
        "colab_type": "text"
      },
      "cell_type": "markdown",
      "source": [
        "# Code to Extract tweets using user_timeline"
      ]
    },
    {
      "metadata": {
        "id": "hmNXfpaEob19",
        "colab_type": "code",
        "outputId": "014c345f-e5f5-4b24-bc2a-27dbbcf7ea52",
        "colab": {
          "base_uri": "https://localhost:8080/",
          "height": 34
        }
      },
      "cell_type": "code",
      "source": [
        "screen_name=\"midasIIITD\"\n",
        "# initialize a list to hold all the tweepy Tweets\n",
        "alltweets = []\n",
        "\n",
        "# make initial request for most recent tweets\n",
        "new_tweets = api.user_timeline(screen_name = screen_name,count=100,tweet_mode='extended')\n",
        "\n",
        "# save most recent tweets\n",
        "alltweets.extend(new_tweets)\n",
        "\n",
        "# save the id of the oldest tweet less one\n",
        "oldest = alltweets[-1].id - 1\n",
        "\n",
        "# keep grabbing tweets until there are no tweets left to grab\n",
        "while len(new_tweets) > 0:\n",
        "\n",
        "  #all subsiquent requests use the max_id param to prevent duplicates\n",
        "  new_tweets = api.user_timeline(screen_name = screen_name,count=199,max_id=oldest,tweet_mode='extended')\n",
        "\n",
        "  #save most recent tweets\n",
        "  alltweets.extend(new_tweets)\n",
        "\n",
        "  #update the id of the oldest tweet less one\n",
        "  oldest = alltweets[-1].id - 1\n",
        "\n",
        "# print total tweets fetched from given screen name\n",
        "print(\"Total tweets downloaded from\", screen_name,\"are\",len(alltweets))"
      ],
      "execution_count": 0,
      "outputs": [
        {
          "output_type": "stream",
          "text": [
            "Total tweets downloaded from midasIIITD are 342\n"
          ],
          "name": "stdout"
        }
      ]
    },
    {
      "metadata": {
        "id": "CSgo4x5wmwmu",
        "colab_type": "text"
      },
      "cell_type": "markdown",
      "source": [
        "# Function to store tweets in JSON File"
      ]
    },
    {
      "metadata": {
        "colab_type": "code",
        "id": "jZwZv2NPsh81",
        "colab": {}
      },
      "cell_type": "code",
      "source": [
        "def write_tweets(tweets, filename):\n",
        "    ''' Function that appends tweets to a file. '''\n",
        "\n",
        "    with open(filename, 'w') as f:\n",
        "        for tweet in tweets:\n",
        "            json.dump(tweet._json, f)\n",
        "            f.write('\\n')\n",
        "write_tweets(alltweets,\"tweet.json\")"
      ],
      "execution_count": 0,
      "outputs": []
    },
    {
      "metadata": {
        "id": "61zMy3hpmwmy",
        "colab_type": "text"
      },
      "cell_type": "markdown",
      "source": [
        "# Reading JSON File"
      ]
    },
    {
      "metadata": {
        "colab_type": "code",
        "id": "Ulh-tHNcuu8a",
        "colab": {}
      },
      "cell_type": "code",
      "source": [
        "tweets=[]\n",
        "with open(\"tweet.json\", 'r') as f:\n",
        "    for line in f.readlines():\n",
        "        tweets.append(json.loads(line))"
      ],
      "execution_count": 0,
      "outputs": []
    },
    {
      "metadata": {
        "id": "kTXBj4oHmwm3",
        "colab_type": "text"
      },
      "cell_type": "markdown",
      "source": [
        "# Extracting the required information and storing in Arrays"
      ]
    },
    {
      "metadata": {
        "colab_type": "code",
        "id": "p1mEfNkIw6f2",
        "colab": {}
      },
      "cell_type": "code",
      "source": [
        "text=[]\n",
        "d_t=[]\n",
        "r_c=[]\n",
        "f_c=[]\n",
        "for i in range(len(tweets)):\n",
        "  text.append(tweets[i]['full_text'])\n",
        "  d_t.append(tweets[i]['created_at'])\n",
        "  f_c.append(tweets[i]['favorite_count'])\n",
        "  r_c.append(tweets[i]['retweet_count'])"
      ],
      "execution_count": 0,
      "outputs": []
    },
    {
      "metadata": {
        "id": "9RSHpDS4mwm8",
        "colab_type": "text"
      },
      "cell_type": "markdown",
      "source": [
        "# Making DataFrame to show in Tabular form"
      ]
    },
    {
      "metadata": {
        "colab_type": "code",
        "id": "kgQw66g3zacw",
        "colab": {}
      },
      "cell_type": "code",
      "source": [
        "df=pd.DataFrame(data={'TEXT':text,'Created At':d_t,'Favorite Count':f_c,'Retweet Count':r_c})"
      ],
      "execution_count": 0,
      "outputs": []
    },
    {
      "metadata": {
        "colab_type": "code",
        "id": "F1qxkvU5zvD-",
        "outputId": "865fe793-1e0d-447e-a500-026138850c9c",
        "colab": {
          "base_uri": "https://localhost:8080/",
          "height": 343
        }
      },
      "cell_type": "code",
      "source": [
        "df.head(10)"
      ],
      "execution_count": 0,
      "outputs": [
        {
          "output_type": "execute_result",
          "data": {
            "text/html": [
              "<div>\n",
              "<style scoped>\n",
              "    .dataframe tbody tr th:only-of-type {\n",
              "        vertical-align: middle;\n",
              "    }\n",
              "\n",
              "    .dataframe tbody tr th {\n",
              "        vertical-align: top;\n",
              "    }\n",
              "\n",
              "    .dataframe thead th {\n",
              "        text-align: right;\n",
              "    }\n",
              "</style>\n",
              "<table border=\"1\" class=\"dataframe\">\n",
              "  <thead>\n",
              "    <tr style=\"text-align: right;\">\n",
              "      <th></th>\n",
              "      <th>Created At</th>\n",
              "      <th>Favorite Count</th>\n",
              "      <th>Retweet Count</th>\n",
              "      <th>TEXT</th>\n",
              "    </tr>\n",
              "  </thead>\n",
              "  <tbody>\n",
              "    <tr>\n",
              "      <th>0</th>\n",
              "      <td>Tue Apr 09 16:45:07 +0000 2019</td>\n",
              "      <td>0</td>\n",
              "      <td>9</td>\n",
              "      <td>RT @IIITDelhi: We are delighted to share that ...</td>\n",
              "    </tr>\n",
              "    <tr>\n",
              "      <th>1</th>\n",
              "      <td>Tue Apr 09 05:04:27 +0000 2019</td>\n",
              "      <td>0</td>\n",
              "      <td>35</td>\n",
              "      <td>RT @Harvard: Professor Jelani Nelson founded A...</td>\n",
              "    </tr>\n",
              "    <tr>\n",
              "      <th>2</th>\n",
              "      <td>Tue Apr 09 05:04:11 +0000 2019</td>\n",
              "      <td>0</td>\n",
              "      <td>13</td>\n",
              "      <td>RT @emnlp2019: For anyone interested in submit...</td>\n",
              "    </tr>\n",
              "    <tr>\n",
              "      <th>3</th>\n",
              "      <td>Mon Apr 08 19:38:09 +0000 2019</td>\n",
              "      <td>0</td>\n",
              "      <td>15</td>\n",
              "      <td>RT @multimediaeval: Announcing the 2019 MediaE...</td>\n",
              "    </tr>\n",
              "    <tr>\n",
              "      <th>4</th>\n",
              "      <td>Mon Apr 08 07:08:12 +0000 2019</td>\n",
              "      <td>16</td>\n",
              "      <td>2</td>\n",
              "      <td>Many Congratulations to @midasIIITD student, S...</td>\n",
              "    </tr>\n",
              "    <tr>\n",
              "      <th>5</th>\n",
              "      <td>Mon Apr 08 03:27:42 +0000 2019</td>\n",
              "      <td>5</td>\n",
              "      <td>0</td>\n",
              "      <td>@midasIIITD thanks all students who have appea...</td>\n",
              "    </tr>\n",
              "    <tr>\n",
              "      <th>6</th>\n",
              "      <td>Sun Apr 07 14:17:29 +0000 2019</td>\n",
              "      <td>0</td>\n",
              "      <td>0</td>\n",
              "      <td>@himanchalchandr Meanwhile, complete CV/NLP ta...</td>\n",
              "    </tr>\n",
              "    <tr>\n",
              "      <th>7</th>\n",
              "      <td>Sun Apr 07 14:17:09 +0000 2019</td>\n",
              "      <td>0</td>\n",
              "      <td>0</td>\n",
              "      <td>@sayangdipto123 Submit as per the guideline ag...</td>\n",
              "    </tr>\n",
              "    <tr>\n",
              "      <th>8</th>\n",
              "      <td>Sun Apr 07 11:43:24 +0000 2019</td>\n",
              "      <td>1</td>\n",
              "      <td>1</td>\n",
              "      <td>We request all students whose interview are sc...</td>\n",
              "    </tr>\n",
              "    <tr>\n",
              "      <th>9</th>\n",
              "      <td>Sun Apr 07 06:55:19 +0000 2019</td>\n",
              "      <td>5</td>\n",
              "      <td>2</td>\n",
              "      <td>Other queries: \"none of the Tweeter Apis give ...</td>\n",
              "    </tr>\n",
              "  </tbody>\n",
              "</table>\n",
              "</div>"
            ],
            "text/plain": [
              "                       Created At  Favorite Count  Retweet Count  \\\n",
              "0  Tue Apr 09 16:45:07 +0000 2019               0              9   \n",
              "1  Tue Apr 09 05:04:27 +0000 2019               0             35   \n",
              "2  Tue Apr 09 05:04:11 +0000 2019               0             13   \n",
              "3  Mon Apr 08 19:38:09 +0000 2019               0             15   \n",
              "4  Mon Apr 08 07:08:12 +0000 2019              16              2   \n",
              "5  Mon Apr 08 03:27:42 +0000 2019               5              0   \n",
              "6  Sun Apr 07 14:17:29 +0000 2019               0              0   \n",
              "7  Sun Apr 07 14:17:09 +0000 2019               0              0   \n",
              "8  Sun Apr 07 11:43:24 +0000 2019               1              1   \n",
              "9  Sun Apr 07 06:55:19 +0000 2019               5              2   \n",
              "\n",
              "                                                TEXT  \n",
              "0  RT @IIITDelhi: We are delighted to share that ...  \n",
              "1  RT @Harvard: Professor Jelani Nelson founded A...  \n",
              "2  RT @emnlp2019: For anyone interested in submit...  \n",
              "3  RT @multimediaeval: Announcing the 2019 MediaE...  \n",
              "4  Many Congratulations to @midasIIITD student, S...  \n",
              "5  @midasIIITD thanks all students who have appea...  \n",
              "6  @himanchalchandr Meanwhile, complete CV/NLP ta...  \n",
              "7  @sayangdipto123 Submit as per the guideline ag...  \n",
              "8  We request all students whose interview are sc...  \n",
              "9  Other queries: \"none of the Tweeter Apis give ...  "
            ]
          },
          "metadata": {
            "tags": []
          },
          "execution_count": 79
        }
      ]
    },
    {
      "metadata": {
        "colab_type": "code",
        "id": "7z2U1AwC4MhM",
        "outputId": "9433ce1f-61f5-4225-e30f-1395ad762f5b",
        "colab": {
          "base_uri": "https://localhost:8080/",
          "height": 34
        }
      },
      "cell_type": "code",
      "source": [
        "df.shape"
      ],
      "execution_count": 0,
      "outputs": [
        {
          "output_type": "execute_result",
          "data": {
            "text/plain": [
              "(342, 4)"
            ]
          },
          "metadata": {
            "tags": []
          },
          "execution_count": 80
        }
      ]
    },
    {
      "metadata": {
        "id": "mfSrXE9f9avW",
        "colab_type": "code",
        "colab": {}
      },
      "cell_type": "code",
      "source": [
        ""
      ],
      "execution_count": 0,
      "outputs": []
    }
  ]
}