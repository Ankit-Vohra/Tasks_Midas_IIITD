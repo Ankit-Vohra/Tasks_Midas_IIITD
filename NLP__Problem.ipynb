{
  "nbformat": 4,
  "nbformat_minor": 0,
  "metadata": {
    "colab": {
      "name": "NLP _Problem",
      "version": "0.3.2",
      "provenance": [],
      "collapsed_sections": [],
      "toc_visible": true
    },
    "language_info": {
      "codemirror_mode": {
        "name": "ipython",
        "version": 3
      },
      "file_extension": ".py",
      "mimetype": "text/x-python",
      "name": "python",
      "nbconvert_exporter": "python",
      "pygments_lexer": "ipython3",
      "version": "3.5.2"
    },
    "kernelspec": {
      "display_name": "Python [default]",
      "language": "python",
      "name": "python3"
    }
  },
  "cells": [
    {
      "metadata": {
        "id": "T1hTe0CAFGv9",
        "colab_type": "text"
      },
      "cell_type": "markdown",
      "source": [
        "# NLP Problem"
      ]
    },
    {
      "metadata": {
        "id": "nLf0G7XbFGv-",
        "colab_type": "text"
      },
      "cell_type": "markdown",
      "source": [
        "# Importing the Libraries"
      ]
    },
    {
      "metadata": {
        "id": "wUrfAZ8eFGwA",
        "colab_type": "code",
        "colab": {
          "base_uri": "https://localhost:8080/",
          "height": 50
        },
        "outputId": "d81b1bca-bf15-4b82-ccfc-04cb1e6256ba"
      },
      "cell_type": "code",
      "source": [
        "import numpy as np\n",
        "import pandas as pd\n",
        "import re\n",
        "import nltk\n",
        "nltk.download('stopwords')\n",
        "from nltk.corpus import stopwords\n",
        "from nltk.stem.porter import PorterStemmer\n",
        "from sklearn.ensemble import RandomForestClassifier\n",
        "import seaborn as sns\n",
        "from sklearn.metrics import confusion_matrix,accuracy_score"
      ],
      "execution_count": 136,
      "outputs": [
        {
          "output_type": "stream",
          "text": [
            "[nltk_data] Downloading package stopwords to /root/nltk_data...\n",
            "[nltk_data]   Package stopwords is already up-to-date!\n"
          ],
          "name": "stdout"
        }
      ]
    },
    {
      "metadata": {
        "id": "zfyFL3N9FGwG",
        "colab_type": "text"
      },
      "cell_type": "markdown",
      "source": [
        "# Importing the Dataset"
      ]
    },
    {
      "metadata": {
        "id": "H88XsJzHFGwI",
        "colab_type": "code",
        "colab": {}
      },
      "cell_type": "code",
      "source": [
        "dataset = pd.read_csv('V1.4_Training.csv',header=None)\n",
        "dataset=dataset.drop(0,axis=1)"
      ],
      "execution_count": 0,
      "outputs": []
    },
    {
      "metadata": {
        "id": "cCo2-D2CFGwR",
        "colab_type": "text"
      },
      "cell_type": "markdown",
      "source": [
        "# Cleaning the texts and Making Bag Of words"
      ]
    },
    {
      "metadata": {
        "colab_type": "code",
        "id": "qXCpY9v6Bc8Y",
        "colab": {}
      },
      "cell_type": "code",
      "source": [
        "corpus = []\n",
        "for i in range(0, 8500):\n",
        "    review = re.sub('[^a-zA-Z]', ' ', dataset[1][i])\n",
        "    review = review.lower()\n",
        "    review = review.split()\n",
        "    ps = PorterStemmer()\n",
        "    review = [ps.stem(word) for word in review if not word in set(stopwords.words('english'))]\n",
        "    review = ' '.join(review)\n",
        "    corpus.append(review)\n",
        "\n",
        "# Creating the Bag of Words model\n",
        "from sklearn.feature_extraction.text import CountVectorizer\n",
        "cv = CountVectorizer(max_features = 1800)\n",
        "\n",
        "X = cv.fit_transform(corpus).toarray()\n",
        "y = dataset.iloc[:, 1].values"
      ],
      "execution_count": 0,
      "outputs": []
    },
    {
      "metadata": {
        "id": "mH_u5hrpINc7",
        "colab_type": "text"
      },
      "cell_type": "markdown",
      "source": [
        "# Visualizing The Dataset"
      ]
    },
    {
      "metadata": {
        "id": "mTb_ZW-yINEv",
        "colab_type": "code",
        "colab": {
          "base_uri": "https://localhost:8080/",
          "height": 568
        },
        "outputId": "b919e2c2-567b-45a9-b694-198b3460ccce"
      },
      "cell_type": "code",
      "source": [
        "sns.countplot(x=y)"
      ],
      "execution_count": 139,
      "outputs": [
        {
          "output_type": "stream",
          "text": [
            "/usr/local/lib/python3.6/dist-packages/seaborn/categorical.py:1428: FutureWarning:\n",
            "\n",
            "remove_na is deprecated and is a private function. Do not use.\n",
            "\n"
          ],
          "name": "stderr"
        },
        {
          "output_type": "execute_result",
          "data": {
            "text/plain": [
              "<matplotlib.axes._subplots.AxesSubplot at 0x7fdd31d9a240>"
            ]
          },
          "metadata": {
            "tags": []
          },
          "execution_count": 139
        },
        {
          "output_type": "display_data",
          "data": {
            "image/png": "[encoded data removed]",
            "text/plain": [
              "<Figure size 800x550 with 1 Axes>"
            ]
          },
          "metadata": {
            "tags": []
          }
        }
      ]
    },
    {
      "metadata": {
        "id": "HTV5WBTKQSgN",
        "colab_type": "text"
      },
      "cell_type": "markdown",
      "source": [
        "We can see That the Dataset is dominated by 0's so it is necessary to make a split using stratify.\n",
        "Moreover their is no missing value so we can proceed with out task of Predicting whether the given statement is a review or not."
      ]
    },
    {
      "metadata": {
        "id": "HD28J14rFGwV",
        "colab_type": "text"
      },
      "cell_type": "markdown",
      "source": [
        "# Splitting The Dataset"
      ]
    },
    {
      "metadata": {
        "colab_type": "code",
        "id": "pd86fPqdF348",
        "colab": {}
      },
      "cell_type": "code",
      "source": [
        "# Splitting the dataset into the Training set and Test set\n",
        "#You can use sklear.model_selection or sklearn.cross_validation\n",
        "from sklearn.model_selection import train_test_split\n",
        "X_train, X_test, y_train, y_test = train_test_split(X, y, test_size = 0.30, random_state = 5,stratify=y)"
      ],
      "execution_count": 0,
      "outputs": []
    },
    {
      "metadata": {
        "id": "fx_ZTB25FGwa",
        "colab_type": "text"
      },
      "cell_type": "markdown",
      "source": [
        "# Feature Scaling required in Random Forest"
      ]
    },
    {
      "metadata": {
        "colab_type": "code",
        "id": "GDRp_QtaGMxs",
        "outputId": "40582a74-2e38-4151-bd69-bc08caafb2bf",
        "colab": {
          "base_uri": "https://localhost:8080/",
          "height": 218
        }
      },
      "cell_type": "code",
      "source": [
        "from sklearn.preprocessing import StandardScaler\n",
        "sc = StandardScaler()\n",
        "X_train = sc.fit_transform(X_train)\n",
        "X_test = sc.transform(X_test)"
      ],
      "execution_count": 141,
      "outputs": [
        {
          "output_type": "stream",
          "text": [
            "/usr/local/lib/python3.6/dist-packages/sklearn/utils/validation.py:595: DataConversionWarning:\n",
            "\n",
            "Data with input dtype int64 was converted to float64 by StandardScaler.\n",
            "\n",
            "/usr/local/lib/python3.6/dist-packages/sklearn/utils/validation.py:595: DataConversionWarning:\n",
            "\n",
            "Data with input dtype int64 was converted to float64 by StandardScaler.\n",
            "\n",
            "/usr/local/lib/python3.6/dist-packages/sklearn/utils/validation.py:595: DataConversionWarning:\n",
            "\n",
            "Data with input dtype int64 was converted to float64 by StandardScaler.\n",
            "\n"
          ],
          "name": "stderr"
        }
      ]
    },
    {
      "metadata": {
        "id": "tuYYjwULFGwg",
        "colab_type": "text"
      },
      "cell_type": "markdown",
      "source": [
        "# Fitting Random Forest Classifier"
      ]
    },
    {
      "metadata": {
        "id": "GpZzxMJXFGwg",
        "colab_type": "code",
        "colab": {}
      },
      "cell_type": "code",
      "source": [
        "# Fitting Random Forest Classification to the Training set\n",
        "classifier = RandomForestClassifier(n_estimators = 1000, criterion = 'entropy', random_state = 0)\n",
        "classifier.fit(X_train, y_train)\n",
        "y_pred = classifier.predict(X_test)"
      ],
      "execution_count": 0,
      "outputs": []
    },
    {
      "metadata": {
        "id": "eavkNS1RFGwk",
        "colab_type": "text"
      },
      "cell_type": "markdown",
      "source": [
        "# Checking Accuracy and Confusion Matrix"
      ]
    },
    {
      "metadata": {
        "colab_type": "code",
        "id": "Ag2FVnBGGSBh",
        "colab": {
          "base_uri": "https://localhost:8080/",
          "height": 67
        },
        "outputId": "7b878cb9-3ea2-4705-c409-36ee2ea7a418"
      },
      "cell_type": "code",
      "source": [
        "ac=accuracy_score(y_test,y_pred)\n",
        "cm = confusion_matrix(y_test, y_pred)\n",
        "print(\"Accuracy of Model is: \", ac*100)\n",
        "print(\"The Confusion Matrix is: \",cm)"
      ],
      "execution_count": 143,
      "outputs": [
        {
          "output_type": "stream",
          "text": [
            "Accuracy of Model is:  81.88235294117648\n",
            "The Confusion Matrix is:  [[1841   83]\n",
            " [ 379  247]]\n"
          ],
          "name": "stdout"
        }
      ]
    },
    {
      "metadata": {
        "id": "CzbeuiEo0iTO",
        "colab_type": "text"
      },
      "cell_type": "markdown",
      "source": [
        "# Reading The Test Data"
      ]
    },
    {
      "metadata": {
        "id": "tMwh4hOCTAzx",
        "colab_type": "code",
        "colab": {}
      },
      "cell_type": "code",
      "source": [
        "df = pd.read_csv('SubtaskA_EvaluationData.csv',header=None)\n",
        "df_test=df.drop([0,2],axis=1)"
      ],
      "execution_count": 0,
      "outputs": []
    },
    {
      "metadata": {
        "id": "HUuk8doJTOXE",
        "colab_type": "code",
        "colab": {}
      },
      "cell_type": "code",
      "source": [
        "#Filtering The test Data \n",
        "corpus = []\n",
        "for i in range(0, df_test.shape[0]):\n",
        "    review = re.sub('[^a-zA-Z]', ' ', df_test[1][i])\n",
        "    review = review.lower()\n",
        "    review = review.split()\n",
        "    ps = PorterStemmer()\n",
        "    review = [ps.stem(word) for word in review if not word in set(stopwords.words('english'))]\n",
        "    review = ' '.join(review)\n",
        "    corpus.append(review)\n",
        "\n",
        "# Creating the Bag of Words model\n",
        "from sklearn.feature_extraction.text import CountVectorizer\n",
        "cv = CountVectorizer(max_features = 1800)\n",
        "X = cv.fit_transform(corpus).toarray()"
      ],
      "execution_count": 0,
      "outputs": []
    },
    {
      "metadata": {
        "id": "gJDrdYm1Ttve",
        "colab_type": "code",
        "colab": {
          "base_uri": "https://localhost:8080/",
          "height": 84
        },
        "outputId": "2cd59fa4-25bf-4ca3-fb4e-027eb96ca5ce"
      },
      "cell_type": "code",
      "source": [
        "X_eval=sc.transform(X)\n",
        "y_pred_eval = classifier.predict(X_eval)"
      ],
      "execution_count": 146,
      "outputs": [
        {
          "output_type": "stream",
          "text": [
            "/usr/local/lib/python3.6/dist-packages/sklearn/utils/validation.py:595: DataConversionWarning:\n",
            "\n",
            "Data with input dtype int64 was converted to float64 by StandardScaler.\n",
            "\n"
          ],
          "name": "stderr"
        }
      ]
    },
    {
      "metadata": {
        "id": "vfCg8KbuT0hH",
        "colab_type": "code",
        "colab": {}
      },
      "cell_type": "code",
      "source": [
        "df[2]=y_pred_eval      #Replacing all The X with predicted Values"
      ],
      "execution_count": 0,
      "outputs": []
    },
    {
      "metadata": {
        "id": "JSHJLEWw1uXz",
        "colab_type": "code",
        "colab": {}
      },
      "cell_type": "code",
      "source": [
        "df.to_csv('Ankit_Singh_Vohra.csv') "
      ],
      "execution_count": 0,
      "outputs": []
    },
    {
      "metadata": {
        "id": "X907n6x_5vy6",
        "colab_type": "code",
        "colab": {}
      },
      "cell_type": "code",
      "source": [
        ""
      ],
      "execution_count": 0,
      "outputs": []
    }
  ]
}